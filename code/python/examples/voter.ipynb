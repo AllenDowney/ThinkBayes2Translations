{
 "cells": [
  {
   "cell_type": "markdown",
   "metadata": {},
   "source": [
    "Think Bayes\n",
    "-----------\n",
    "\n",
    "Example problem related to *Think Bayes*\n",
    "\n",
    "[The MIT License](https://opensource.org/licenses/MIT)\n",
    "Copyright 2016 Allen Downey"
   ]
  },
  {
   "cell_type": "code",
   "execution_count": 1,
   "metadata": {
    "collapsed": false
   },
   "outputs": [],
   "source": [
    "import thinkbayes2"
   ]
  },
  {
   "cell_type": "markdown",
   "metadata": {},
   "source": [
    "The following problem was submitted to my blog, [Probably Overthinking It](http://allendowney.blogspot.com/2011/10/my-favorite-bayess-theorem-problems.html), by a user named Amit, who wrote:\n",
    "\n",
    "> The following data is about a poll that occurred in 3 states. In state1, 50% of voters support Party1, in state2, 60% of the voters support Party1, and in state3, 35% of the voters support Party1. Of the total population of the three states, 40% live in state1, 25% live in state2, and 35% live in state3. Given that a voter supports Party1, what is the probability that he lives in state2?\n",
    "\n",
    "My solution follows.  First I'll create a suite to represent our prior knowledge.  If we know nothing about a voter, we would use the relative populations of the states to guess where they are from."
   ]
  },
  {
   "cell_type": "code",
   "execution_count": 2,
   "metadata": {
    "collapsed": false
   },
   "outputs": [
    {
     "name": "stdout",
     "output_type": "stream",
     "text": [
      "State 1 0.4\n",
      "State 2 0.25\n",
      "State 3 0.35\n"
     ]
    }
   ],
   "source": [
    "prior = thinkbayes2.Suite({'State 1': 0.4, 'State 2': 0.25, 'State 3': 0.35})\n",
    "prior.Print()"
   ]
  },
  {
   "cell_type": "markdown",
   "metadata": {},
   "source": [
    "Now if we know a voter supports Party 1, we can use that as data to update our belief.  The following dictionary contains the likelihood of the data (supporting Party 1) under each hypothesis (which state the voter is from)."
   ]
  },
  {
   "cell_type": "code",
   "execution_count": 3,
   "metadata": {
    "collapsed": true
   },
   "outputs": [],
   "source": [
    "likelihood = {'State 1': 0.5, 'State 2': 0.60, 'State 3': 0.35}"
   ]
  },
  {
   "cell_type": "markdown",
   "metadata": {},
   "source": [
    "To make the posterior distribution, I'll start with a copy of the prior.\n",
    "\n",
    "The update consists of looping through the hypotheses and multiplying the prior probability of each hypothesis, `hypo`,  by the likelihood of the data if `hypo` is true.\n",
    "\n",
    "The result is a map from hypotheses to posterior likelihoods, but they are not probabilities yet because they are not normalized."
   ]
  },
  {
   "cell_type": "code",
   "execution_count": 4,
   "metadata": {
    "collapsed": false
   },
   "outputs": [
    {
     "name": "stdout",
     "output_type": "stream",
     "text": [
      "State 1 0.2\n",
      "State 2 0.15\n",
      "State 3 0.1225\n"
     ]
    }
   ],
   "source": [
    "posterior = prior.Copy()\n",
    "for hypo in posterior:\n",
    "    posterior[hypo] *= likelihood[hypo]\n",
    "posterior.Print()"
   ]
  },
  {
   "cell_type": "markdown",
   "metadata": {},
   "source": [
    "Normalizing the posterior distribution returns the total likelihood of the data, which is the normalizing constant."
   ]
  },
  {
   "cell_type": "code",
   "execution_count": 5,
   "metadata": {
    "collapsed": false
   },
   "outputs": [
    {
     "data": {
      "text/plain": [
       "0.4725"
      ]
     },
     "execution_count": 5,
     "metadata": {},
     "output_type": "execute_result"
    }
   ],
   "source": [
    "posterior.Normalize()"
   ]
  },
  {
   "cell_type": "markdown",
   "metadata": {},
   "source": [
    "Now the posterior is a proper distribution:"
   ]
  },
  {
   "cell_type": "code",
   "execution_count": 6,
   "metadata": {
    "collapsed": false
   },
   "outputs": [
    {
     "name": "stdout",
     "output_type": "stream",
     "text": [
      "State 1 0.42328042328\n",
      "State 2 0.31746031746\n",
      "State 3 0.259259259259\n"
     ]
    }
   ],
   "source": [
    "posterior.Print()"
   ]
  },
  {
   "cell_type": "markdown",
   "metadata": {},
   "source": [
    "And the probability that the voter is from State 2 is about 32%."
   ]
  },
  {
   "cell_type": "code",
   "execution_count": null,
   "metadata": {
    "collapsed": true
   },
   "outputs": [],
   "source": []
  }
 ],
 "metadata": {
  "kernelspec": {
   "display_name": "Python 2",
   "language": "python",
   "name": "python2"
  },
  "language_info": {
   "codemirror_mode": {
    "name": "ipython",
    "version": 2
   },
   "file_extension": ".py",
   "mimetype": "text/x-python",
   "name": "python",
   "nbconvert_exporter": "python",
   "pygments_lexer": "ipython2",
   "version": "2.7.11"
  }
 },
 "nbformat": 4,
 "nbformat_minor": 0
}
